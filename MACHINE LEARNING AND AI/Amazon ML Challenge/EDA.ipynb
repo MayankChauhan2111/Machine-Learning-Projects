{
 "cells": [
  {
   "cell_type": "code",
   "execution_count": 1,
   "id": "78359fb4",
   "metadata": {},
   "outputs": [],
   "source": [
    "import os\n",
    "import csv\n",
    "import numpy as np\n",
    "import pandas as pd\n",
    "import seaborn as sns\n",
    "import matplotlib.pyplot as plt\n",
    "\n",
    "\n",
    "import warnings\n",
    "warnings.simplefilter('ignore')"
   ]
  },
  {
   "cell_type": "code",
   "execution_count": 2,
   "id": "82d2a8f8",
   "metadata": {},
   "outputs": [
    {
     "data": {
      "text/html": [
       "<div>\n",
       "<style scoped>\n",
       "    .dataframe tbody tr th:only-of-type {\n",
       "        vertical-align: middle;\n",
       "    }\n",
       "\n",
       "    .dataframe tbody tr th {\n",
       "        vertical-align: top;\n",
       "    }\n",
       "\n",
       "    .dataframe thead th {\n",
       "        text-align: right;\n",
       "    }\n",
       "</style>\n",
       "<table border=\"1\" class=\"dataframe\">\n",
       "  <thead>\n",
       "    <tr style=\"text-align: right;\">\n",
       "      <th></th>\n",
       "      <th>TITLE</th>\n",
       "      <th>DESCRIPTION</th>\n",
       "      <th>BULLET_POINTS</th>\n",
       "      <th>BRAND</th>\n",
       "      <th>BROWSE_NODE_ID</th>\n",
       "    </tr>\n",
       "  </thead>\n",
       "  <tbody>\n",
       "    <tr>\n",
       "      <th>0</th>\n",
       "      <td>Pete The Cat Bedtime Blues Doll, 14.5 Inch</td>\n",
       "      <td>Pete the Cat is the coolest, most popular cat ...</td>\n",
       "      <td>[Pete the Cat Bedtime Blues plush doll,Based o...</td>\n",
       "      <td>MerryMakers</td>\n",
       "      <td>0</td>\n",
       "    </tr>\n",
       "    <tr>\n",
       "      <th>1</th>\n",
       "      <td>The New Yorker NYHM014 Refrigerator Magnet, 2 ...</td>\n",
       "      <td>The New Yorker Handsome Cello Wrapped Hard Mag...</td>\n",
       "      <td>[Cat In A Tea Cup by New Yorker cover artist G...</td>\n",
       "      <td>The New Yorker</td>\n",
       "      <td>1</td>\n",
       "    </tr>\n",
       "  </tbody>\n",
       "</table>\n",
       "</div>"
      ],
      "text/plain": [
       "                                               TITLE  \\\n",
       "0         Pete The Cat Bedtime Blues Doll, 14.5 Inch   \n",
       "1  The New Yorker NYHM014 Refrigerator Magnet, 2 ...   \n",
       "\n",
       "                                         DESCRIPTION  \\\n",
       "0  Pete the Cat is the coolest, most popular cat ...   \n",
       "1  The New Yorker Handsome Cello Wrapped Hard Mag...   \n",
       "\n",
       "                                       BULLET_POINTS           BRAND  \\\n",
       "0  [Pete the Cat Bedtime Blues plush doll,Based o...     MerryMakers   \n",
       "1  [Cat In A Tea Cup by New Yorker cover artist G...  The New Yorker   \n",
       "\n",
       "   BROWSE_NODE_ID  \n",
       "0               0  \n",
       "1               1  "
      ]
     },
     "execution_count": 2,
     "metadata": {},
     "output_type": "execute_result"
    }
   ],
   "source": [
    "df = pd.read_csv('./input/train.csv', escapechar='\\\\', quoting=csv.QUOTE_NONE)\n",
    "df.head(2)"
   ]
  },
  {
   "cell_type": "code",
   "execution_count": 3,
   "id": "4c516773",
   "metadata": {},
   "outputs": [
    {
     "data": {
      "text/html": [
       "<div>\n",
       "<style scoped>\n",
       "    .dataframe tbody tr th:only-of-type {\n",
       "        vertical-align: middle;\n",
       "    }\n",
       "\n",
       "    .dataframe tbody tr th {\n",
       "        vertical-align: top;\n",
       "    }\n",
       "\n",
       "    .dataframe thead th {\n",
       "        text-align: right;\n",
       "    }\n",
       "</style>\n",
       "<table border=\"1\" class=\"dataframe\">\n",
       "  <thead>\n",
       "    <tr style=\"text-align: right;\">\n",
       "      <th></th>\n",
       "      <th>PRODUCT_ID</th>\n",
       "      <th>TITLE</th>\n",
       "      <th>DESCRIPTION</th>\n",
       "      <th>BULLET_POINTS</th>\n",
       "      <th>BRAND</th>\n",
       "    </tr>\n",
       "  </thead>\n",
       "  <tbody>\n",
       "    <tr>\n",
       "      <th>0</th>\n",
       "      <td>1</td>\n",
       "      <td>Command 3M Small Kitchen Hooks, White, Decorat...</td>\n",
       "      <td>Sale Unit: PACK</td>\n",
       "      <td>[INCLUDES - 9 hooks and 12 small indoor strips...</td>\n",
       "      <td>Command</td>\n",
       "    </tr>\n",
       "    <tr>\n",
       "      <th>1</th>\n",
       "      <td>2</td>\n",
       "      <td>O'Neal Jump Hardware JAG Unisex-Adult Glove (B...</td>\n",
       "      <td>Synthetic leather palm with double-layer thumb...</td>\n",
       "      <td>[Silicone printing for a better grip. Long las...</td>\n",
       "      <td>O'Neal</td>\n",
       "    </tr>\n",
       "  </tbody>\n",
       "</table>\n",
       "</div>"
      ],
      "text/plain": [
       "   PRODUCT_ID                                              TITLE  \\\n",
       "0           1  Command 3M Small Kitchen Hooks, White, Decorat...   \n",
       "1           2  O'Neal Jump Hardware JAG Unisex-Adult Glove (B...   \n",
       "\n",
       "                                         DESCRIPTION  \\\n",
       "0                                    Sale Unit: PACK   \n",
       "1  Synthetic leather palm with double-layer thumb...   \n",
       "\n",
       "                                       BULLET_POINTS    BRAND  \n",
       "0  [INCLUDES - 9 hooks and 12 small indoor strips...  Command  \n",
       "1  [Silicone printing for a better grip. Long las...   O'Neal  "
      ]
     },
     "execution_count": 3,
     "metadata": {},
     "output_type": "execute_result"
    }
   ],
   "source": [
    "test_df = pd.read_csv('./input/test.csv', escapechar='\\\\', quoting=csv.QUOTE_NONE)\n",
    "test_df.head(2)"
   ]
  },
  {
   "cell_type": "code",
   "execution_count": 4,
   "id": "aa9a02d2",
   "metadata": {},
   "outputs": [
    {
     "data": {
      "text/plain": [
       "110775"
      ]
     },
     "execution_count": 4,
     "metadata": {},
     "output_type": "execute_result"
    }
   ],
   "source": [
    "len(test_df)"
   ]
  },
  {
   "cell_type": "code",
   "execution_count": 5,
   "id": "3f32e634",
   "metadata": {},
   "outputs": [
    {
     "data": {
      "text/plain": [
       "2903024"
      ]
     },
     "execution_count": 5,
     "metadata": {},
     "output_type": "execute_result"
    }
   ],
   "source": [
    "len(df)"
   ]
  },
  {
   "cell_type": "code",
   "execution_count": 6,
   "id": "afbb4b16",
   "metadata": {},
   "outputs": [
    {
     "data": {
      "text/plain": [
       "9919"
      ]
     },
     "execution_count": 6,
     "metadata": {},
     "output_type": "execute_result"
    }
   ],
   "source": [
    "df.BROWSE_NODE_ID.nunique()"
   ]
  },
  {
   "cell_type": "code",
   "execution_count": 6,
   "id": "edecf67b",
   "metadata": {},
   "outputs": [
    {
     "data": {
      "text/plain": [
       "258265"
      ]
     },
     "execution_count": 6,
     "metadata": {},
     "output_type": "execute_result"
    }
   ],
   "source": [
    "df.BRAND.nunique()"
   ]
  },
  {
   "cell_type": "code",
   "execution_count": 7,
   "id": "2c83d63d",
   "metadata": {},
   "outputs": [
    {
     "data": {
      "text/plain": [
       "TITLE                 71\n",
       "DESCRIPTION       723664\n",
       "BULLET_POINTS     166263\n",
       "BRAND              56737\n",
       "BROWSE_NODE_ID         0\n",
       "dtype: int64"
      ]
     },
     "execution_count": 7,
     "metadata": {},
     "output_type": "execute_result"
    }
   ],
   "source": [
    "np.sum(df.isna())"
   ]
  },
  {
   "cell_type": "code",
   "execution_count": 8,
   "id": "fc9ae9c2",
   "metadata": {},
   "outputs": [
    {
     "data": {
      "text/plain": [
       "PRODUCT_ID           0\n",
       "TITLE                7\n",
       "DESCRIPTION      10469\n",
       "BULLET_POINTS     6786\n",
       "BRAND             2430\n",
       "dtype: int64"
      ]
     },
     "execution_count": 8,
     "metadata": {},
     "output_type": "execute_result"
    }
   ],
   "source": [
    "np.sum(test_df.isna())"
   ]
  },
  {
   "cell_type": "markdown",
   "id": "0c7730e0",
   "metadata": {},
   "source": [
    "### Observations\n",
    "\n",
    "1) As there are too many samples and the metric is also Accuracy we can remove the rows with nan values. For every row in the test set which will have all its values as NAN we will predict the most frequent class.\n",
    "\n",
    "2) We can also make a classifier for that case using only the BRAND as input."
   ]
  },
  {
   "cell_type": "code",
   "execution_count": 9,
   "id": "49a38909",
   "metadata": {},
   "outputs": [],
   "source": [
    "temp_df = df.copy()"
   ]
  },
  {
   "cell_type": "code",
   "execution_count": 10,
   "id": "16d36b48",
   "metadata": {},
   "outputs": [
    {
     "data": {
      "text/plain": [
       "2846227"
      ]
     },
     "execution_count": 10,
     "metadata": {},
     "output_type": "execute_result"
    }
   ],
   "source": [
    "# REMOVING ROWS WEHRE TITLE AND BRAND ARE NANs\n",
    "df = temp_df.copy()\n",
    "df = df.dropna(subset=['TITLE', 'BRAND'])\n",
    "len(df)"
   ]
  },
  {
   "cell_type": "code",
   "execution_count": 11,
   "id": "f687e10d",
   "metadata": {},
   "outputs": [
    {
     "data": {
      "text/plain": [
       "<AxesSubplot:>"
      ]
     },
     "execution_count": 11,
     "metadata": {},
     "output_type": "execute_result"
    },
    {
     "data": {
      "image/png": "[encoded data removed]",
      "text/plain": [
       "<Figure size 432x288 with 1 Axes>"
      ]
     },
     "metadata": {
      "needs_background": "light"
     },
     "output_type": "display_data"
    }
   ],
   "source": [
    "values = []\n",
    "ranges = []\n",
    "for i in range(1,100,5):\n",
    "    values.append(np.sum(df.BROWSE_NODE_ID.value_counts() > i))\n",
    "    ranges.append(i)\n",
    "    \n",
    "sns.lineplot(x=ranges, y=values)"
   ]
  },
  {
   "cell_type": "markdown",
   "id": "1b9092b8",
   "metadata": {},
   "source": [
    "### Observations\n",
    "\n",
    "As there are too many classes and the metric is Accuracy we can just remove less frequent classes. The problem is to choose a good threshold.\n",
    "\n",
    "We can have 3 sets of datasets at 3 differnt thresholds and we train 3 models using these 3 different thresholds. In each model we will have 1 extra label for out-of-class i.e. if there is one such sample that model thinks not belongs to our class then we will let the second model predict that. That way we will have diversity."
   ]
  },
  {
   "cell_type": "code",
   "execution_count": 12,
   "id": "498b79e2",
   "metadata": {},
   "outputs": [],
   "source": [
    "# The BROWSE_NODE_ID == 0 needs to be changed to a different value\n",
    "df.loc[df[df['BROWSE_NODE_ID'] == 0].index, 'BROWSE_NODE_ID'] = 10000\n",
    "\n",
    "# I am defining thresholds at 10, 30 and 110\n",
    "value_counts = dict(df['BROWSE_NODE_ID'].value_counts())\n",
    "\n",
    "df['Threshold1'] = df['BROWSE_NODE_ID'].map(lambda x: 1 if (value_counts[x] >= 10 and value_counts[x] < 30) else 0)\n",
    "df['Threshold2'] = df['BROWSE_NODE_ID'].map(lambda x: 1 if (value_counts[x] >= 30 and value_counts[x] < 110) else 0)\n",
    "df['Threshold3'] = df['BROWSE_NODE_ID'].map(lambda x: 1 if value_counts[x] >= 110 else 0)"
   ]
  },
  {
   "cell_type": "code",
   "execution_count": 13,
   "id": "4ecaf086",
   "metadata": {},
   "outputs": [
    {
     "data": {
      "text/plain": [
       "2831443"
      ]
     },
     "execution_count": 13,
     "metadata": {},
     "output_type": "execute_result"
    }
   ],
   "source": [
    "# Now we drop all the values with value equal to zero'\n",
    "df = df[np.sum(df[['Threshold1', 'Threshold2', 'Threshold3']], axis=1) != 0]\n",
    "len(df)"
   ]
  },
  {
   "cell_type": "code",
   "execution_count": 14,
   "id": "c4df92d3",
   "metadata": {},
   "outputs": [
    {
     "data": {
      "text/html": [
       "<div>\n",
       "<style scoped>\n",
       "    .dataframe tbody tr th:only-of-type {\n",
       "        vertical-align: middle;\n",
       "    }\n",
       "\n",
       "    .dataframe tbody tr th {\n",
       "        vertical-align: top;\n",
       "    }\n",
       "\n",
       "    .dataframe thead th {\n",
       "        text-align: right;\n",
       "    }\n",
       "</style>\n",
       "<table border=\"1\" class=\"dataframe\">\n",
       "  <thead>\n",
       "    <tr style=\"text-align: right;\">\n",
       "      <th></th>\n",
       "      <th>TITLE</th>\n",
       "      <th>DESCRIPTION</th>\n",
       "      <th>BULLET_POINTS</th>\n",
       "      <th>BRAND</th>\n",
       "      <th>label1</th>\n",
       "      <th>label2</th>\n",
       "      <th>label3</th>\n",
       "    </tr>\n",
       "  </thead>\n",
       "  <tbody>\n",
       "    <tr>\n",
       "      <th>0</th>\n",
       "      <td>Pete The Cat Bedtime Blues Doll, 14.5 Inch</td>\n",
       "      <td>Pete the Cat is the coolest, most popular cat ...</td>\n",
       "      <td>[Pete the Cat Bedtime Blues plush doll,Based o...</td>\n",
       "      <td>MerryMakers</td>\n",
       "      <td>0</td>\n",
       "      <td>0</td>\n",
       "      <td>10000</td>\n",
       "    </tr>\n",
       "    <tr>\n",
       "      <th>1</th>\n",
       "      <td>The New Yorker NYHM014 Refrigerator Magnet, 2 ...</td>\n",
       "      <td>The New Yorker Handsome Cello Wrapped Hard Mag...</td>\n",
       "      <td>[Cat In A Tea Cup by New Yorker cover artist G...</td>\n",
       "      <td>The New Yorker</td>\n",
       "      <td>0</td>\n",
       "      <td>0</td>\n",
       "      <td>1</td>\n",
       "    </tr>\n",
       "    <tr>\n",
       "      <th>3</th>\n",
       "      <td>Amway Nutrilite Kids Chewable Iron Tablets (100)</td>\n",
       "      <td>NaN</td>\n",
       "      <td>[Nutrilite Kids,Chewable Iron Tablets,Quantity...</td>\n",
       "      <td>Amway</td>\n",
       "      <td>0</td>\n",
       "      <td>0</td>\n",
       "      <td>3</td>\n",
       "    </tr>\n",
       "    <tr>\n",
       "      <th>5</th>\n",
       "      <td>Men'S Full Sleeve Raglan T-Shirts Denim T-Shir...</td>\n",
       "      <td>Men'S Full Sleeve Raglan T-Shirts Denim T-Shir...</td>\n",
       "      <td>[Color: Blue,Sleeve: Full Sleeve,Material: Cot...</td>\n",
       "      <td>Bhavya Enterprise</td>\n",
       "      <td>0</td>\n",
       "      <td>0</td>\n",
       "      <td>5</td>\n",
       "    </tr>\n",
       "    <tr>\n",
       "      <th>6</th>\n",
       "      <td>Glance Women's Wallet (Black) (LW-21)</td>\n",
       "      <td>This Black wallet by Glance will be a treasure...</td>\n",
       "      <td>[The Most Comfortable Women's Wallet That You ...</td>\n",
       "      <td>Glance</td>\n",
       "      <td>0</td>\n",
       "      <td>0</td>\n",
       "      <td>6</td>\n",
       "    </tr>\n",
       "  </tbody>\n",
       "</table>\n",
       "</div>"
      ],
      "text/plain": [
       "                                               TITLE  \\\n",
       "0         Pete The Cat Bedtime Blues Doll, 14.5 Inch   \n",
       "1  The New Yorker NYHM014 Refrigerator Magnet, 2 ...   \n",
       "3   Amway Nutrilite Kids Chewable Iron Tablets (100)   \n",
       "5  Men'S Full Sleeve Raglan T-Shirts Denim T-Shir...   \n",
       "6              Glance Women's Wallet (Black) (LW-21)   \n",
       "\n",
       "                                         DESCRIPTION  \\\n",
       "0  Pete the Cat is the coolest, most popular cat ...   \n",
       "1  The New Yorker Handsome Cello Wrapped Hard Mag...   \n",
       "3                                                NaN   \n",
       "5  Men'S Full Sleeve Raglan T-Shirts Denim T-Shir...   \n",
       "6  This Black wallet by Glance will be a treasure...   \n",
       "\n",
       "                                       BULLET_POINTS              BRAND  \\\n",
       "0  [Pete the Cat Bedtime Blues plush doll,Based o...        MerryMakers   \n",
       "1  [Cat In A Tea Cup by New Yorker cover artist G...     The New Yorker   \n",
       "3  [Nutrilite Kids,Chewable Iron Tablets,Quantity...              Amway   \n",
       "5  [Color: Blue,Sleeve: Full Sleeve,Material: Cot...  Bhavya Enterprise   \n",
       "6  [The Most Comfortable Women's Wallet That You ...             Glance   \n",
       "\n",
       "   label1  label2  label3  \n",
       "0       0       0   10000  \n",
       "1       0       0       1  \n",
       "3       0       0       3  \n",
       "5       0       0       5  \n",
       "6       0       0       6  "
      ]
     },
     "execution_count": 14,
     "metadata": {},
     "output_type": "execute_result"
    }
   ],
   "source": [
    "# Setting up a out-of-label class\n",
    "df['label1'] = df['Threshold1'].values * df['BROWSE_NODE_ID'].values\n",
    "df['label2'] = df['Threshold2'].values * df['BROWSE_NODE_ID'].values\n",
    "df['label3'] = df['Threshold3'].values * df['BROWSE_NODE_ID'].values\n",
    "\n",
    "df.drop(columns=['Threshold1', 'Threshold2', 'Threshold3', 'BROWSE_NODE_ID'], inplace=True)\n",
    "df.head()"
   ]
  },
  {
   "cell_type": "code",
   "execution_count": 15,
   "id": "a1de4106",
   "metadata": {},
   "outputs": [
    {
     "data": {
      "text/plain": [
       "label1    2252\n",
       "label2    2074\n",
       "label3    2381\n",
       "dtype: int64"
      ]
     },
     "execution_count": 15,
     "metadata": {},
     "output_type": "execute_result"
    }
   ],
   "source": [
    "df[['label1', 'label2', 'label3']].nunique()"
   ]
  },
  {
   "cell_type": "code",
   "execution_count": 16,
   "id": "fb8f4ed3",
   "metadata": {},
   "outputs": [
    {
     "data": {
      "text/plain": [
       "0         2792067\n",
       "11986          29\n",
       "32059          29\n",
       "2853           29\n",
       "56122          29\n",
       "           ...   \n",
       "744996         10\n",
       "564            10\n",
       "262            10\n",
       "531719         10\n",
       "96074          10\n",
       "Name: label1, Length: 2252, dtype: int64"
      ]
     },
     "execution_count": 16,
     "metadata": {},
     "output_type": "execute_result"
    }
   ],
   "source": [
    "df['label1'].value_counts() # We will drop the 0 label while modelling."
   ]
  },
  {
   "cell_type": "markdown",
   "id": "f2052d31",
   "metadata": {},
   "source": [
    "### Observations\n",
    "Now this has become much much more doable.\n",
    "\n",
    "Let's once again look at the nan values"
   ]
  },
  {
   "cell_type": "code",
   "execution_count": 17,
   "id": "eaa35457",
   "metadata": {},
   "outputs": [
    {
     "data": {
      "text/plain": [
       "TITLE                 0\n",
       "DESCRIPTION      672088\n",
       "BULLET_POINTS    115664\n",
       "BRAND                 0\n",
       "label1                0\n",
       "label2                0\n",
       "label3                0\n",
       "dtype: int64"
      ]
     },
     "execution_count": 17,
     "metadata": {},
     "output_type": "execute_result"
    }
   ],
   "source": [
    "np.sum(df.isna())"
   ]
  },
  {
   "cell_type": "markdown",
   "id": "9613a98d",
   "metadata": {},
   "source": [
    "### Observations\n",
    "There are a lot of places where `description` is `nan` and a lot where `Bullet_points` is `nan`. The crucial think to took note of that `Bullet Points` are usually derived from `description` and hence more concise and usefull for us.\n",
    "\n",
    "Now as for how to handle these nan values. We have the following methods:\n",
    " * We can append `Title`, `Description`, `Bullet_points` to a single string. That append will be seprated by special characters in BERT, RoBERTA etc. and where there are `nan` value we just pass append the string `nan`.\n",
    " * We can use the `Title` embedding sepratelly and just append the rest 2.\n",
    " * Don't use the description at all.\n",
    " \n",
    "Other ideas can also be applied.\n",
    "\n",
    "Now coming to the spilt of the dataset. We can either use a StratifiedKFold or just the normal trian_test_split. I think we should try using both and see the difference. If there isn't much different in submission then we will just continue on the train_test_spilt else we will work on the StratifiedKFold splits."
   ]
  },
  {
   "cell_type": "code",
   "execution_count": 18,
   "id": "325899a7",
   "metadata": {},
   "outputs": [],
   "source": [
    "# Normal train test split\n",
    "from sklearn.model_selection import train_test_split, StratifiedKFold\n",
    "\n",
    "train_idx1, valid_idx1 = train_test_split(df.index, stratify=df['label1'], random_state=1234)\n",
    "train_idx2, valid_idx2 = train_test_split(df.index, stratify=df['label2'], random_state=1234)\n",
    "train_idx3, valid_idx3 = train_test_split(df.index, stratify=df['label3'], random_state=1234)\n",
    "\n",
    "df['split1'] = -1\n",
    "df['split2'] = -1\n",
    "df['split3'] = -1\n",
    "\n",
    "df.loc[train_idx1, 'split1'] = 'train'\n",
    "df.loc[valid_idx1, 'split1'] = 'valid'\n",
    "\n",
    "df.loc[train_idx2, 'split2'] = 'train'\n",
    "df.loc[valid_idx2, 'split2'] = 'valid'\n",
    "\n",
    "df.loc[train_idx3, 'split3'] = 'train'\n",
    "df.loc[valid_idx3, 'split3'] = 'valid'"
   ]
  },
  {
   "cell_type": "code",
   "execution_count": 19,
   "id": "3bc2721a",
   "metadata": {},
   "outputs": [],
   "source": [
    "# KFold split - 5 Folds\n",
    "df = df.sample(frac=1, random_state=1234).reset_index(drop=True)\n",
    "splitter = StratifiedKFold(n_splits=5)\n",
    "\n",
    "df['kfold1'] = -1\n",
    "df['kfold2'] = -1\n",
    "df['kfold3'] = -1\n",
    "\n",
    "for fold, (trn, val) in enumerate(splitter.split(df.index, df.label1)):\n",
    "    df.loc[val, 'kfold1'] = fold\n",
    "    \n",
    "for fold, (trn, val) in enumerate(splitter.split(df.index, df.label2)):\n",
    "    df.loc[val, 'kfold2'] = fold\n",
    "    \n",
    "for fold, (trn, val) in enumerate(splitter.split(df.index, df.label3)):\n",
    "    df.loc[val, 'kfold3'] = fold"
   ]
  },
  {
   "cell_type": "markdown",
   "id": "ffc998d5",
   "metadata": {},
   "source": [
    "### Saving the new dataframe\n",
    "\n",
    "For now I am saving the new dataframe. This df will be used for further preprocessing of the dataset. Also, I am temperary filling the `nan` values as a str:nan"
   ]
  },
  {
   "cell_type": "code",
   "execution_count": 20,
   "id": "d8ec8d09",
   "metadata": {},
   "outputs": [],
   "source": [
    "df.fillna('nan', inplace=True)"
   ]
  },
  {
   "cell_type": "code",
   "execution_count": 21,
   "id": "7599d7fe",
   "metadata": {},
   "outputs": [],
   "source": [
    "df.to_csv('./input/new_train.csv', index=False)"
   ]
  },
  {
   "cell_type": "markdown",
   "id": "6b5fe463",
   "metadata": {},
   "source": [
    "### Getting the length of description"
   ]
  },
  {
   "cell_type": "code",
   "execution_count": 22,
   "id": "20c00c0f",
   "metadata": {},
   "outputs": [],
   "source": [
    "df['len_des'] = df['DESCRIPTION'].map(lambda x: len(str(x)))"
   ]
  },
  {
   "cell_type": "code",
   "execution_count": 23,
   "id": "2cfc4da1",
   "metadata": {},
   "outputs": [
    {
     "data": {
      "text/plain": [
       "<AxesSubplot:xlabel='len_des', ylabel='Density'>"
      ]
     },
     "execution_count": 23,
     "metadata": {},
     "output_type": "execute_result"
    },
    {
     "data": {
      "image/png": "[encoded data removed]",
      "text/plain": [
       "<Figure size 432x288 with 1 Axes>"
      ]
     },
     "metadata": {
      "needs_background": "light"
     },
     "output_type": "display_data"
    }
   ],
   "source": [
    "sns.distplot(df['len_des'])"
   ]
  },
  {
   "cell_type": "code",
   "execution_count": 40,
   "id": "ac427c16",
   "metadata": {},
   "outputs": [],
   "source": [
    "df['len_bullet'] = df['BULLET_POINTS'][:10].map(lambda x: len(str(x[1:-1])))"
   ]
  },
  {
   "cell_type": "code",
   "execution_count": 41,
   "id": "9cfb7810",
   "metadata": {},
   "outputs": [
    {
     "data": {
      "text/plain": [
       "<AxesSubplot:xlabel='len_bullet', ylabel='Density'>"
      ]
     },
     "execution_count": 41,
     "metadata": {},
     "output_type": "execute_result"
    },
    {
     "data": {
      "image/png": "[encoded data removed]",
      "text/plain": [
       "<Figure size 432x288 with 1 Axes>"
      ]
     },
     "metadata": {
      "needs_background": "light"
     },
     "output_type": "display_data"
    }
   ],
   "source": [
    "sns.distplot(df['len_bullet'])"
   ]
  }
 ],
 "metadata": {
  "kernelspec": {
   "display_name": "Python 3",
   "language": "python",
   "name": "python3"
  },
  "language_info": {
   "codemirror_mode": {
    "name": "ipython",
    "version": 3
   },
   "file_extension": ".py",
   "mimetype": "text/x-python",
   "name": "python",
   "nbconvert_exporter": "python",
   "pygments_lexer": "ipython3",
   "version": "3.8.5"
  },
  "toc": {
   "base_numbering": 1,
   "nav_menu": {},
   "number_sections": true,
   "sideBar": true,
   "skip_h1_title": false,
   "title_cell": "Table of Contents",
   "title_sidebar": "Contents",
   "toc_cell": true,
   "toc_position": {
    "height": "calc(100% - 180px)",
    "left": "10px",
    "top": "150px",
    "width": "165px"
   },
   "toc_section_display": true,
   "toc_window_display": false
  }
 },
 "nbformat": 4,
 "nbformat_minor": 5
}
